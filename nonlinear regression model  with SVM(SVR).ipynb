{
 "cells": [
  {
   "cell_type": "code",
   "execution_count": null,
   "id": "69cb4bae-27c7-41d1-8945-12646dccdf58",
   "metadata": {},
   "outputs": [],
   "source": []
  }
 ],
 "metadata": {
  "kernelspec": {
   "display_name": "",
   "name": ""
  },
  "language_info": {
   "name": ""
  }
 },
 "nbformat": 4,
 "nbformat_minor": 5
}
