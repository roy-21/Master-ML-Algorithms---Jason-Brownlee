{
 "cells": [
  {
   "cell_type": "code",
   "execution_count": 2,
   "id": "32f773e0-e483-4ff6-8cea-0c13daaba821",
   "metadata": {},
   "outputs": [
    {
     "name": "stdout",
     "output_type": "stream",
     "text": [
      "75.3844839371155\n",
      "Predicted output class is: [0.]\n"
     ]
    }
   ],
   "source": [
    "#  SVC for Binary Classification problem\n",
    "\n",
    "from pandas import read_csv\n",
    "from sklearn.model_selection import KFold\n",
    "from sklearn.model_selection import cross_val_score\n",
    "from sklearn.svm import SVC\n",
    "\n",
    "\n",
    "filename = 'diabetes.csv'\n",
    "dataframe = read_csv(filename)\n",
    "array = dataframe.values\n",
    "X = array[:,0:8]\n",
    "Y = array[:,8]\n",
    "num_folds = 10\n",
    "\n",
    "kfold = KFold(n_splits=10)\n",
    "\n",
    "model = SVC(C=0.9, kernel='poly') # Parmeters can be tuned here\n",
    "results = cross_val_score(model, X, Y, cv=kfold)\n",
    "print(results.mean()*100)\n",
    "\n",
    "#Predict the output for a specific iinput\n",
    "model.fit(X,Y)\n",
    "test = [[1,85,66,29,0,26.6,0.351,31]]\n",
    "print(\"Predicted output class is:\",model.predict(test))"
   ]
  }
 ],
 "metadata": {
  "kernelspec": {
   "display_name": "Python [conda env:base] *",
   "language": "python",
   "name": "conda-base-py"
  },
  "language_info": {
   "codemirror_mode": {
    "name": "ipython",
    "version": 3
   },
   "file_extension": ".py",
   "mimetype": "text/x-python",
   "name": "python",
   "nbconvert_exporter": "python",
   "pygments_lexer": "ipython3",
   "version": "3.12.7"
  }
 },
 "nbformat": 4,
 "nbformat_minor": 5
}
